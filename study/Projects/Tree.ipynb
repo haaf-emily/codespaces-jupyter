{
 "cells": [
  {
   "cell_type": "code",
   "execution_count": 2,
   "metadata": {},
   "outputs": [
    {
     "name": "stdout",
     "output_type": "stream",
     "text": [
      "Bitte geben Sie eine Beliebige Zahl ein\n",
      "*\n",
      "*\n",
      "*\n"
     ]
    }
   ],
   "source": [
    "print(\"Bitte geben Sie eine Beliebige Zahl ein\")\n",
    "number=3\n",
    "for x in range(number):\n",
    "    for k in range(x):\n",
    "        print(\"*\")"
   ]
  },
  {
   "cell_type": "code",
   "execution_count": 2,
   "metadata": {},
   "outputs": [
    {
     "name": "stdout",
     "output_type": "stream",
     "text": [
      "2\n"
     ]
    }
   ],
   "source": [
    "x=0\n",
    "y=10\n",
    "\n",
    "if x or y:\n",
    "    x +=1\n",
    "    if not x or y:\n",
    "        x+=1\n",
    "    else:\n",
    "        x+=2\n",
    "else:\n",
    "    x+=3\n",
    "\n",
    "print(x)"
   ]
  },
  {
   "cell_type": "code",
   "execution_count": 3,
   "metadata": {},
   "outputs": [
    {
     "name": "stdout",
     "output_type": "stream",
     "text": [
      "-20\n"
     ]
    }
   ],
   "source": [
    "def foo(a,b):\n",
    "    if a>b:\n",
    "        return a+b\n",
    "    elif a==b:\n",
    "        return a*b\n",
    "    else:\n",
    "        return a-b\n",
    "\n",
    "print(foo(5,foo(5,5)))"
   ]
  },
  {
   "cell_type": "code",
   "execution_count": 4,
   "metadata": {},
   "outputs": [
    {
     "name": "stdout",
     "output_type": "stream",
     "text": [
      "5 16 8 4 2 1 "
     ]
    }
   ],
   "source": [
    "def bar(x):\n",
    "    if x%2 ==0:\n",
    "        return x//2\n",
    "    else:\n",
    "        return x*3+1\n",
    "   \n",
    "n=10\n",
    "while n!= 1:\n",
    "    n=bar(n)\n",
    "    print(n,end=\" \")\n"
   ]
  }
 ],
 "metadata": {
  "kernelspec": {
   "display_name": "Study",
   "language": "python",
   "name": "python3"
  },
  "language_info": {
   "codemirror_mode": {
    "name": "ipython",
    "version": 3
   },
   "file_extension": ".py",
   "mimetype": "text/x-python",
   "name": "python",
   "nbconvert_exporter": "python",
   "pygments_lexer": "ipython3",
   "version": "3.11.5"
  }
 },
 "nbformat": 4,
 "nbformat_minor": 2
}
