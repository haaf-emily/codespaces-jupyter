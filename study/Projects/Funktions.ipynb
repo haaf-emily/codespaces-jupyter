{
 "cells": [
  {
   "cell_type": "code",
   "execution_count": null,
   "metadata": {},
   "outputs": [],
   "source": [
    "import datetime as dt\n",
    "import numpy as np\n",
    "import rev\n",
    "\n",
    "def where(arr, cond):\n",
    "    for i in arr:\n",
    "        if cond(i):\n",
    "            yield i\n",
    "\n",
    "def dofor(arr, t):\n",
    "    for i in arr:\n",
    "        t(i)\n",
    "\n",
    "def sumUp(typ):\n",
    "    return sum([t[\"a\"] for t in where(transactions, lambda t: t[\"t\"] == typ)])\n",
    "\n",
    "dateFormat = re.compile(\"[1-2][0-9].[0-1][0-9].[0-9]*\")\n",
    "transactions = [\n",
    "    {\"t\": 1, \"a\": 12, \"d\": dt.date },\n",
    "    {\"t\": 1, \"a\": 14, \"d\": dt.date },\n",
    "    {\"t\": -1, \"a\": 13, \"d\": dt.date(2024, 1, 14)}\n",
    "]\n",
    "\n",
    "def newTS(typ, amt, dat):\n",
    "    transactions.append({\"t\": typ, \"a\":amt, \"d\": dat})\n",
    "\n",
    "def tAtD(dat):\n",
    "    return where(transactions, lambda t: t[\"d\"] == dat)\n",
    "\n",
    "def valiDat(dat):\n",
    "    return re.match(dateFormat, dat) is not None\n",
    "\n",
    "print(valiDat(\"15.01.2024\"))\n",
    "print(valiDat(\"2024/15/01\"))\n",
    "print(sumUp(1))\n",
    "dofor(tAtD(dt.date(2024, 1, 24)), lambda t:print(t))"
   ]
  }
 ],
 "metadata": {
  "language_info": {
   "name": "python"
  }
 },
 "nbformat": 4,
 "nbformat_minor": 2
}
