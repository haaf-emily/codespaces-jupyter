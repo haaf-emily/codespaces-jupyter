{
 "cells": [
  {
   "cell_type": "code",
   "execution_count": 1,
   "metadata": {},
   "outputs": [],
   "source": [
    "elements = ['Element 1', 'Element 2']"
   ]
  },
  {
   "cell_type": "code",
   "execution_count": 2,
   "metadata": {},
   "outputs": [
    {
     "name": "stdout",
     "output_type": "stream",
     "text": [
      "Element 1\n",
      "Element 2\n"
     ]
    }
   ],
   "source": [
    "for e in elements:\n",
    "    print(e)"
   ]
  },
  {
   "cell_type": "code",
   "execution_count": 3,
   "metadata": {},
   "outputs": [
    {
     "name": "stdout",
     "output_type": "stream",
     "text": [
      "0 is even\n",
      "1 is uneven\n",
      "2 is even\n",
      "3 is uneven\n",
      "4 is even\n",
      "5 is uneven\n",
      "6 is even\n",
      "7 is uneven\n",
      "8 is even\n",
      "9 is uneven\n"
     ]
    }
   ],
   "source": [
    "numbers = range(10)\n",
    "for i in numbers:\n",
    "    if i % 2 == 0:\n",
    "        print('{} is even'.format(i))\n",
    "    else:\n",
    "        print('{} is uneven'.format(i))"
   ]
  },
  {
   "cell_type": "code",
   "execution_count": null,
   "metadata": {},
   "outputs": [],
   "source": []
  }
 ],
 "metadata": {
  "kernelspec": {
   "display_name": "Study",
   "language": "python",
   "name": "python3"
  },
  "language_info": {
   "codemirror_mode": {
    "name": "ipython",
    "version": 3
   },
   "file_extension": ".py",
   "mimetype": "text/x-python",
   "name": "python",
   "nbconvert_exporter": "python",
   "pygments_lexer": "ipython3",
   "version": "3.11.5"
  }
 },
 "nbformat": 4,
 "nbformat_minor": 2
}
